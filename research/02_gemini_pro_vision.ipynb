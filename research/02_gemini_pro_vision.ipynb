{
 "cells": [
  {
   "cell_type": "code",
   "execution_count": 1,
   "metadata": {},
   "outputs": [
    {
     "data": {
      "text/plain": [
       "10"
      ]
     },
     "execution_count": 1,
     "metadata": {},
     "output_type": "execute_result"
    }
   ],
   "source": [
    "5+5"
   ]
  },
  {
   "cell_type": "code",
   "execution_count": 22,
   "metadata": {},
   "outputs": [],
   "source": [
    "from dotenv import load_dotenv\n",
    "load_dotenv() \n",
    "import os\n",
    "import streamlit as st\n",
    "import pathlib\n",
    "import textwrap\n",
    "import google.generativeai as genai\n",
    "from PIL import Image\n"
   ]
  },
  {
   "cell_type": "code",
   "execution_count": 3,
   "metadata": {},
   "outputs": [
    {
     "name": "stdout",
     "output_type": "stream",
     "text": [
      "models/gemini-pro\n",
      "models/gemini-pro-vision\n"
     ]
    }
   ],
   "source": [
    "genai.configure(api_key=os.environ[\"GOOGLE_API_KEY\"])\n",
    "\n",
    "for m in genai.list_models():\n",
    "  if 'generateContent' in m.supported_generation_methods:\n",
    "    print(m.name)"
   ]
  },
  {
   "cell_type": "code",
   "execution_count": 4,
   "metadata": {},
   "outputs": [],
   "source": [
    "model = genai.GenerativeModel('gemini-pro-vision')"
   ]
  },
  {
   "cell_type": "code",
   "execution_count": 26,
   "metadata": {},
   "outputs": [],
   "source": [
    "def get_response_gemini_pro_vision(input,image):\n",
    "   \n",
    "   if input!=\"\":\n",
    "      response = model.generate_content([input,image])\n",
    "   else:\n",
    "      response = model.generate_content(image)\n",
    "      \n",
    "   return response.text\n",
    "\n"
   ]
  },
  {
   "cell_type": "code",
   "execution_count": 25,
   "metadata": {},
   "outputs": [],
   "source": [
    "\n",
    "\n",
    "st.set_page_config(page_title='Gemini AI Image Detector')\n",
    "st.header(\"Google Gemini AI App\")\n",
    "input = st.text_input(\"Input:\", key='input')\n",
    "\n",
    "file_uploaded  = st.file_uploader(\"image ...\", type=[\"jpg\", \"jpeg\", \"png\"])\n",
    "image = \"\"\n",
    "\n",
    "if file_upload is not None:    \n",
    "    image = Image.open(file_uploaded)\n",
    "    st.image(image=image, caption=\"Upload image.\", use_column_width=True)\n",
    "\n",
    "\n",
    "submit = st.button(\"Tell me about the uploaded image?\")\n",
    "if submit:\n",
    "    response = get_response_gemini_pro_vision(input, image)\n",
    "    st.subheader(\"The details about the image is...\")\n",
    "    st.write(response)\n",
    "\n",
    "\n"
   ]
  },
  {
   "cell_type": "code",
   "execution_count": null,
   "metadata": {},
   "outputs": [],
   "source": []
  }
 ],
 "metadata": {
  "kernelspec": {
   "display_name": "Python 3",
   "language": "python",
   "name": "python3"
  },
  "language_info": {
   "codemirror_mode": {
    "name": "ipython",
    "version": 3
   },
   "file_extension": ".py",
   "mimetype": "text/x-python",
   "name": "python",
   "nbconvert_exporter": "python",
   "pygments_lexer": "ipython3",
   "version": "3.11.4"
  }
 },
 "nbformat": 4,
 "nbformat_minor": 2
}
